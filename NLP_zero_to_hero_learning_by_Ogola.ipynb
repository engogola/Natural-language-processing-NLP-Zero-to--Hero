{
  "nbformat": 4,
  "nbformat_minor": 0,
  "metadata": {
    "colab": {
      "provenance": [],
      "authorship_tag": "ABX9TyNb6bqxiUY0+8Rs8UGhItfs",
      "include_colab_link": true
    },
    "kernelspec": {
      "name": "python3",
      "display_name": "Python 3"
    },
    "language_info": {
      "name": "python"
    }
  },
  "cells": [
    {
      "cell_type": "markdown",
      "metadata": {
        "id": "view-in-github",
        "colab_type": "text"
      },
      "source": [
        "<a href=\"https://colab.research.google.com/github/engogola/Natural-language-processing-NLP-Zero-to--Hero/blob/main/NLP_zero_to_hero_learning_by_Ogola.ipynb\" target=\"_parent\"><img src=\"https://colab.research.google.com/assets/colab-badge.svg\" alt=\"Open In Colab\"/></a>"
      ]
    },
    {
      "cell_type": "markdown",
      "source": [
        "From the findamental of natural language processing ,my journey of learning nlp ,The series include\n",
        "\n",
        "\n",
        "1.   Tokenization\n",
        "\n",
        "1.   Pre-Processing\n",
        "\n",
        "1.   Bag of words and similarity\n",
        "\n",
        "1.   TF-IDF and Document search\n",
        "2.   Naive Bayes and text classification\n",
        "2.   LDA  and word Embeddings\n",
        "2.   Machine translation Attention\n",
        "\n",
        "2.   Transfomers and RNN_LMs\n",
        "\n"
      ],
      "metadata": {
        "id": "3icKX8wgmjBH"
      }
    },
    {
      "cell_type": "markdown",
      "source": [
        "**1) TOKENIZATION**\n",
        "Tokenization is the process of breaking down a corpus into tokens. The procedure might look like segmenting a piece of text into sentences and then further segmenting these sentences into individual words, numbers and punctuation, which would be tokens."
      ],
      "metadata": {
        "id": "7flJnd_Bmi9z"
      }
    },
    {
      "cell_type": "code",
      "execution_count": null,
      "metadata": {
        "colab": {
          "base_uri": "https://localhost:8080/"
        },
        "id": "Zk6BoyWJj26y",
        "outputId": "01511019-48b8-45eb-9ccc-4e632d8ab532"
      },
      "outputs": [
        {
          "output_type": "stream",
          "name": "stdout",
          "text": [
            "3.7.6\n"
          ]
        }
      ],
      "source": [
        "# import spacy library\n",
        "import spacy\n",
        "print(spacy.__version__)"
      ]
    },
    {
      "cell_type": "markdown",
      "source": [
        " Next we load a statistical model of the English language trained on web articles. Its capabilities include tokenization, among other things."
      ],
      "metadata": {
        "id": "IpkRMzObo5d3"
      }
    },
    {
      "cell_type": "code",
      "source": [
        "#load the spacy model\n",
        "nlp = spacy.load('en_core_web_sm')"
      ],
      "metadata": {
        "id": "XZhf-faYpbQI"
      },
      "execution_count": null,
      "outputs": []
    },
    {
      "cell_type": "code",
      "source": [
        "#tokenize the string\n",
        "s =\"Richard doesn't like to read books.\"\n",
        "doc = nlp(s)\n",
        "# print tokens\n",
        "print([token.text for token in doc])"
      ],
      "metadata": {
        "colab": {
          "base_uri": "https://localhost:8080/"
        },
        "collapsed": true,
        "id": "1YoNjjX8plYn",
        "outputId": "6e244598-3e83-4c28-9f99-3511d30742e5"
      },
      "execution_count": null,
      "outputs": [
        {
          "output_type": "stream",
          "name": "stdout",
          "text": [
            "['Richard', 'does', \"n't\", 'like', 'to', 'read', 'books', '.']\n"
          ]
        }
      ]
    },
    {
      "cell_type": "markdown",
      "source": [
        "**Pre-Processing**\n",
        "\n",
        "The pre-processing steps includes case folding i.e converting every token to uniform lower case or upper case\n",
        "\n",
        "\n",
        "1.   stop word removal\n",
        "2.   Lemmatization\n",
        "\n",
        "1.   Stemming\n",
        "2.   Part of speech tagging\n",
        "\n",
        "1.   Named-Entity Recognition\n",
        "\n",
        "\n",
        "\n",
        "\n",
        "\n",
        "\n",
        "\n",
        "."
      ],
      "metadata": {
        "id": "ZGLgN2Dkq-L1"
      }
    },
    {
      "cell_type": "markdown",
      "source": [
        "Case-Folding;This is the act of converting every token to be uniformly lower case or upper case.\n",
        "\n",
        "This can be beneficial because it will reduce the number of unique tokens in a corpus, i,e. the size of the vocabulary, hence make the processing of these tokens more memory and computational effecient. The downside however is information loss."
      ],
      "metadata": {
        "id": "9HnbiIs0s1Ux"
      }
    },
    {
      "cell_type": "code",
      "source": [
        "#Tokenize\n",
        "s =\"Richard doesn't like to read books.\"\n",
        "doc = nlp(s)\n",
        "#case fold\n",
        "print([token.text.lower() for token in doc])\n"
      ],
      "metadata": {
        "colab": {
          "base_uri": "https://localhost:8080/"
        },
        "collapsed": true,
        "id": "IUxvD0LSr695",
        "outputId": "ec0f3f4e-88dd-4c2a-9548-ce61faa21a28"
      },
      "execution_count": null,
      "outputs": [
        {
          "output_type": "stream",
          "name": "stdout",
          "text": [
            "['richard', 'does', \"n't\", 'like', 'to', 'read', 'books', '.']\n"
          ]
        }
      ]
    },
    {
      "cell_type": "code",
      "source": [
        "#Conditional case folding i.e skip the firdt word in a sentence\n",
        "print([token.text.upper() if token.i==0 else token.text.lower() for token in doc])"
      ],
      "metadata": {
        "colab": {
          "base_uri": "https://localhost:8080/"
        },
        "collapsed": true,
        "id": "_AtgSEgRtRuL",
        "outputId": "f36313ca-4cb6-4edf-e6d2-81b7bbcac144"
      },
      "execution_count": null,
      "outputs": [
        {
          "output_type": "stream",
          "name": "stdout",
          "text": [
            "['RICHARD', 'does', \"n't\", 'like', 'to', 'read', 'books', '.']\n"
          ]
        }
      ]
    },
    {
      "cell_type": "markdown",
      "source": [
        "2) Stop-word removal;\n",
        "\n",
        "Stop words are words that appear commonly but carry little information. Examples include, \"a\", \"the\", \"of\", \"an\", \"this\",\"that\". Similar to case folding, removing stop words can improve efficiency but comes at the cost of losing contextual information."
      ],
      "metadata": {
        "id": "kiv0LctOtKrW"
      }
    },
    {
      "cell_type": "code",
      "source": [
        "#print spacy's stop word list\n",
        "print(nlp.Defaults.stop_words)\n",
        "print(len(nlp.Defaults.stop_words))"
      ],
      "metadata": {
        "colab": {
          "base_uri": "https://localhost:8080/"
        },
        "collapsed": true,
        "id": "eC5IuJHytzt5",
        "outputId": "18ca48fc-d2e0-494d-cc37-b04ef7b7d625"
      },
      "execution_count": null,
      "outputs": [
        {
          "output_type": "stream",
          "name": "stdout",
          "text": [
            "{'whither', 'either', 'through', 'might', 'ca', 'many', 'my', 'perhaps', 'thence', 'formerly', 'to', 'each', 'what', 'just', 'above', 'among', 'upon', 'more', 'should', 'too', 'up', 'one', 'must', 'ten', 'why', 'your', 'bottom', 'done', 'neither', 'on', 'cannot', 'can', 'used', 'throughout', 'are', '‘re', 'yourself', 'least', 'because', 'almost', 'with', 'enough', 'within', 'much', 'back', 'put', 'into', 'beside', 'give', 'often', 'alone', 'own', 'there', 'name', 'they', 'those', 'some', 'only', 'before', 'as', 'where', 'seemed', 'whereby', 'am', 'whatever', 'whoever', 'and', 'twenty', 'top', 'these', 'made', 'four', 'whereafter', 'in', 'twelve', 'the', 'again', 'latterly', '‘d', 'third', 'whereas', 'nor', 'mine', 'noone', 'amount', 'behind', 'six', 'herein', 'something', 'so', 'a', 'call', 'fifteen', 'sometimes', 'here', 'afterwards', 'eight', 'three', 'whose', '’d', 'whether', 'he', 'myself', 'yet', 'always', 'could', 'front', '‘ll', 'make', 'same', 'everything', 'serious', 'using', 'was', 'once', 'show', \"'ll\", 'wherein', '‘s', 'himself', 'she', 'for', 'i', 'at', 'hers', 'by', 'part', 'our', '’re', 'doing', 'anywhere', 'please', '’s', 'except', 'thus', 'however', 'is', 'hence', '‘m', 'over', 'unless', 'via', 'thru', 'eleven', 'first', 'it', 'itself', 'n’t', 'still', 'anyway', 'themselves', 'did', 'her', 'well', 'do', 'several', 'move', 'does', 'even', 'had', 'five', 'hereby', 'between', 'wherever', 'all', 'around', 'moreover', 'seem', 'nine', 'along', 'toward', 'sixty', 'them', 'being', 'became', 'two', \"'s\", 'every', 'fifty', 'not', 'has', '’ll', 'though', 'against', 'under', 'no', 'have', 'beyond', 'when', 'somewhere', 'thereby', 'now', 'yours', '’m', 'meanwhile', 'next', 'you', 'quite', 'without', 'since', 'therein', 'really', 'hereafter', 'rather', 'whence', \"'d\", 'about', 'due', 'elsewhere', 'while', 'this', 'towards', 'empty', 'which', 'that', 'somehow', 'if', 'thereafter', 'none', 'most', 'others', 'hereupon', 'then', 'also', 'other', 'seems', 'whole', 'any', 'else', 'namely', 'during', \"n't\", 'been', 'someone', 'onto', 'such', 'until', 'latter', 'who', 'amongst', 'but', 'besides', 'how', 'out', 'although', 'say', 'very', 'yourselves', 'be', 'seeming', 'side', 'may', 'keep', 'less', 'his', 'after', 'its', 'nowhere', 'get', 'ourselves', 'anyone', 'beforehand', 'therefore', 'go', 'both', 'whereupon', 'n‘t', 'former', 'than', 're', \"'m\", 'becoming', 'otherwise', 'would', 'becomes', \"'ve\", 'ours', 'him', 'herself', '’ve', 'everywhere', 'their', 'us', 'never', 'mostly', 'further', 'few', 'forty', 'another', 'nobody', 'together', 'various', 'will', 'we', 'an', 'everyone', 'sometime', 'whom', 'take', 'thereupon', 'nevertheless', 'already', 'of', 'indeed', '‘ve', 'last', 'below', 'full', \"'re\", 'me', 'from', 'off', 'or', 'per', 'ever', 'across', 'regarding', 'become', 'were', 'hundred', 'down', 'nothing', 'anything', 'see', 'whenever', 'anyhow'}\n",
            "326\n"
          ]
        }
      ]
    },
    {
      "cell_type": "code",
      "source": [
        "#Remove stop words\n",
        "print([token.text for token in doc if not token.is_stop])"
      ],
      "metadata": {
        "colab": {
          "base_uri": "https://localhost:8080/"
        },
        "collapsed": true,
        "id": "7NmlZLTiuT8T",
        "outputId": "359bc72d-555b-403a-cb21-171987b0df38"
      },
      "execution_count": null,
      "outputs": [
        {
          "output_type": "stream",
          "name": "stdout",
          "text": [
            "['Richard', 'like', 'read', 'books', '.']\n"
          ]
        }
      ]
    },
    {
      "cell_type": "markdown",
      "source": [
        "**3) Stemming**\n",
        "\n",
        "Stemming is the act of reducing a word to its stem by removing suffixes and sometimes prefixes depending on the language.\n",
        "\n",
        "For example, the words \"developed\" and \"developing\" both have the stem \"develop\".\n",
        "\n",
        "While this technique also reduces the size of the vocabulary, it can result in invalid words, for example \"studies\" might be stemmed to studi hence not used nowadays ,been replaced by Lemmatization"
      ],
      "metadata": {
        "id": "jnklk2twuj4D"
      }
    },
    {
      "cell_type": "markdown",
      "source": [
        "**Lemmatization**\n",
        "\n",
        "Lemmatization reduces a word down to its lemma, i.e. dictionary form.\n",
        "\n",
        "While this is similar to stemming, it also takes into account things like tenses and synonyms. For example, the words \"did\", \"done\" and \"doing\" would be converted to the base form \"do\"."
      ],
      "metadata": {
        "id": "RJc-84U1w_Ds"
      }
    },
    {
      "cell_type": "code",
      "source": [
        "#lemmatize using .lemma attribute\n",
        "print([token.lemma_ for token in doc])\n"
      ],
      "metadata": {
        "colab": {
          "base_uri": "https://localhost:8080/"
        },
        "collapsed": true,
        "id": "HMBKwIgmvNRo",
        "outputId": "0f9a5573-0827-412a-cc92-cde0cf36eb8a"
      },
      "execution_count": null,
      "outputs": [
        {
          "output_type": "stream",
          "name": "stdout",
          "text": [
            "['Richard', 'do', 'not', 'like', 'to', 'read', 'book', '.']\n"
          ]
        }
      ]
    },
    {
      "cell_type": "markdown",
      "source": [
        "Advanced pre-processing\n",
        "\n",
        "**Part-of-speech tagging**\n",
        "\n",
        "Part-of-speech tagging is the method of classifying how a word is used in a sentence, for example, noun, verb, adjective.\n",
        "\n"
      ],
      "metadata": {
        "id": "qCJHDyqPxeF4"
      }
    },
    {
      "cell_type": "code",
      "source": [
        "# part of speech\n",
        "print([(t.text,t.pos_)for t in doc])\n"
      ],
      "metadata": {
        "colab": {
          "base_uri": "https://localhost:8080/"
        },
        "collapsed": true,
        "id": "XgD6XuxFy5xR",
        "outputId": "96677780-329b-4902-850c-e4be36c57555"
      },
      "execution_count": null,
      "outputs": [
        {
          "output_type": "stream",
          "name": "stdout",
          "text": [
            "[('Richard', 'PROPN'), ('does', 'AUX'), (\"n't\", 'PART'), ('like', 'VERB'), ('to', 'PART'), ('read', 'VERB'), ('books', 'NOUN'), ('.', 'PUNCT')]\n"
          ]
        }
      ]
    },
    {
      "cell_type": "markdown",
      "source": [
        "**Named-Entity recognition**\n",
        "Named Entity Recognition (NER) is the act of tagging named entities in text.\n",
        "\n",
        "A named entity is anything that can be referred to by a proper name and usually has the proper noun tag. Common examples include a person, cities, countries and companies. Note that it is common to extend entities to include money, time, dates, etc.\n",
        "\n",
        "NER can help categorize and organize a corpus. It is especially useful, for example, in helping chatbots raise accurate support tickets depending on the customer problem.\n",
        "\n",
        "Some of the challenges to building a state-of-the-art NER model include type ambiguity, where one word can have multiple meanings (e.g. Amazon - river or company?) and the fact that entities can span multiple tokens (e.g. John Smith). Luckily, spacy has very good NER model that we can utilize."
      ],
      "metadata": {
        "id": "cuEhflztxd5l"
      }
    },
    {
      "cell_type": "code",
      "source": [
        "# Named Entity Recognition\n",
        "#Tokenize\n",
        "s = \"Apple is looking at buying Kenyan startup for $1 billion\"\n",
        "doc = nlp(s)"
      ],
      "metadata": {
        "id": "xaRqySHgz7qr"
      },
      "execution_count": null,
      "outputs": []
    },
    {
      "cell_type": "code",
      "source": [
        "#Doing NER by .ent_type\n",
        "print([(t.text,t.ent_type_)for t in doc])"
      ],
      "metadata": {
        "colab": {
          "base_uri": "https://localhost:8080/"
        },
        "collapsed": true,
        "id": "juekWnFq0Wdl",
        "outputId": "deeea7ea-8ef9-4498-8fae-de7269530ed3"
      },
      "execution_count": null,
      "outputs": [
        {
          "output_type": "stream",
          "name": "stdout",
          "text": [
            "[('Apple', 'ORG'), ('is', ''), ('looking', ''), ('at', ''), ('buying', ''), ('Kenyan', 'NORP'), ('startup', ''), ('for', ''), ('$', 'MONEY'), ('1', 'MONEY'), ('billion', 'MONEY')]\n"
          ]
        }
      ]
    },
    {
      "cell_type": "code",
      "source": [
        "#only Print entities\n",
        "print([(t.text,t.ent_type_)for t in doc if t.ent_type !=0])"
      ],
      "metadata": {
        "colab": {
          "base_uri": "https://localhost:8080/"
        },
        "collapsed": true,
        "id": "NLPBMDQq0sph",
        "outputId": "af717798-8c4a-4ca6-e831-3c83fe815ffe"
      },
      "execution_count": null,
      "outputs": [
        {
          "output_type": "stream",
          "name": "stdout",
          "text": [
            "[('Apple', 'ORG'), ('Kenyan', 'NORP'), ('$', 'MONEY'), ('1', 'MONEY'), ('billion', 'MONEY')]\n"
          ]
        }
      ]
    },
    {
      "cell_type": "code",
      "source": [
        "#Explain Explanation\n",
        "print('ORG',spacy.explain('ORG'))\n",
        "print('GPE',spacy.explain('GPE'))\n",
        "print('MONEY',spacy.explain('MONEY'))\n",
        "print('NORP',spacy.explain('NORP'))"
      ],
      "metadata": {
        "colab": {
          "base_uri": "https://localhost:8080/"
        },
        "collapsed": true,
        "id": "9_f7ijFo06gG",
        "outputId": "ef2399ee-8871-4f7b-c0d0-95514257c279"
      },
      "execution_count": null,
      "outputs": [
        {
          "output_type": "stream",
          "name": "stdout",
          "text": [
            "ORG Companies, agencies, institutions, etc.\n",
            "GPE Countries, cities, states\n",
            "MONEY Monetary values, including unit\n",
            "NORP Nationalities or religious or political groups\n"
          ]
        }
      ]
    },
    {
      "cell_type": "code",
      "source": [
        "#Doing NER in Spacy by using .ents Attribute\n",
        "print([(ent.text,ent.label_) for ent in doc.ents])"
      ],
      "metadata": {
        "colab": {
          "base_uri": "https://localhost:8080/"
        },
        "collapsed": true,
        "id": "SPTdRFyG2OKw",
        "outputId": "da78c712-33f9-4002-8a40-70cc2578140c"
      },
      "execution_count": null,
      "outputs": [
        {
          "output_type": "stream",
          "name": "stdout",
          "text": [
            "[('Apple', 'ORG'), ('Kenyan', 'NORP'), ('$1 billion', 'MONEY')]\n"
          ]
        }
      ]
    },
    {
      "cell_type": "code",
      "source": [
        "#Visualise the entites using a spacy built function\n",
        "from spacy import displacy\n",
        "#Visualise entities\n",
        "displacy.render(doc,style='ent',jupyter=True)"
      ],
      "metadata": {
        "colab": {
          "base_uri": "https://localhost:8080/",
          "height": 52
        },
        "collapsed": true,
        "id": "bxwCHR3c2OEp",
        "outputId": "45aff252-4fa4-4076-da31-88000be54ad6"
      },
      "execution_count": null,
      "outputs": [
        {
          "output_type": "display_data",
          "data": {
            "text/plain": [
              "<IPython.core.display.HTML object>"
            ],
            "text/html": [
              "<span class=\"tex2jax_ignore\"><div class=\"entities\" style=\"line-height: 2.5; direction: ltr\">\n",
              "<mark class=\"entity\" style=\"background: #7aecec; padding: 0.45em 0.6em; margin: 0 0.25em; line-height: 1; border-radius: 0.35em;\">\n",
              "    Apple\n",
              "    <span style=\"font-size: 0.8em; font-weight: bold; line-height: 1; border-radius: 0.35em; vertical-align: middle; margin-left: 0.5rem\">ORG</span>\n",
              "</mark>\n",
              " is looking at buying \n",
              "<mark class=\"entity\" style=\"background: #c887fb; padding: 0.45em 0.6em; margin: 0 0.25em; line-height: 1; border-radius: 0.35em;\">\n",
              "    Kenyan\n",
              "    <span style=\"font-size: 0.8em; font-weight: bold; line-height: 1; border-radius: 0.35em; vertical-align: middle; margin-left: 0.5rem\">NORP</span>\n",
              "</mark>\n",
              " startup for \n",
              "<mark class=\"entity\" style=\"background: #e4e7d2; padding: 0.45em 0.6em; margin: 0 0.25em; line-height: 1; border-radius: 0.35em;\">\n",
              "    $1 billion\n",
              "    <span style=\"font-size: 0.8em; font-weight: bold; line-height: 1; border-radius: 0.35em; vertical-align: middle; margin-left: 0.5rem\">MONEY</span>\n",
              "</mark>\n",
              "</div></span>"
            ]
          },
          "metadata": {}
        }
      ]
    },
    {
      "cell_type": "markdown",
      "source": [
        "**3) Bag Of Words**\n",
        "\n",
        "After tokenization and pre-processing, we are left with variable length sequences of text, but the problem is machine learning algorithms require fixed length vectors of numbers.\n",
        "\n",
        "The simplest approach to overcome this is by using a bag-of-words, which simply counts how many times each word appears in a document. It's called a bag because the order of the words is ignored - we only care about whether a word appeared or not."
      ],
      "metadata": {
        "id": "0yNrh6kh4w6z"
      }
    },
    {
      "cell_type": "markdown",
      "source": [
        "For now, we'll focus on the binary version of a bag-of-words. This just indicates whether a word appeared or not, ignoring word order and word frequency.\n",
        "Each row in a binary bag-of-words matrix corresponds to a single document in the corpus. Each column corresponds to a token in the vocabulary. Note that the order of the tokens isn't important but it does need to be fixed beforehand when building the vocabulary.\n",
        "\n",
        "To construct the matrix, we place a 1 in entry (i,j) if and only if the j-th token appears in the i-th document and a 0 otherwise.\n",
        "\n",
        "For a general bag-of-words, the (i,j) entry would instead be the frequency of the j-th token in the i-th document (but we will see there are better ways to encode frequency later).\n",
        "\n",
        "\n"
      ],
      "metadata": {
        "id": "rrT2W3_n5P9g"
      }
    },
    {
      "cell_type": "markdown",
      "source": [
        "Similiarity;Vector space search\n",
        "We have gone from thinking of documents as a sequence of words to points in a multi-dimensional vector space. Importantly, the dimension of this space if fixed, i.e. each vector has the same length.\n",
        "\n"
      ],
      "metadata": {
        "id": "uyo4Iuhy6Wug"
      }
    },
    {
      "cell_type": "markdown",
      "source": [
        "here are many metrics we could use to measure how 'close' two points are. For example, we could consider using the Euclidean distance, Manhattan distance or even Hamming distance. However, if documents in the same corpus have very different lengths, or the vocabulary is extremely large, these metrics become less reliable.\n",
        "\n",
        "Instead, in the NLP domain it is much more common to use Cosine Similarity. This measures the cosine of the angle between any two points (more precisely their vectors starting from the origin). The closer the score 1, the smaller the angle between the vectors and the more similar the documents are."
      ],
      "metadata": {
        "id": "ZPfSUOPg6ivo"
      }
    },
    {
      "cell_type": "markdown",
      "source": [
        "n-gram\n",
        "One way to get around the problem of losing word order information is to use n-grams. This is when we group chunks of n tokens together to behave as if they were a single token.\n",
        "\n",
        "A 2-gram (aka bigram) would have 2 tokens per chunk, a 3-gram (aka trigram) would have 3 tokens per chuck, etc."
      ],
      "metadata": {
        "id": "Wup4NVTC7BAE"
      }
    },
    {
      "cell_type": "code",
      "source": [
        "#import libraries\n",
        "import spacy\n",
        "import numpy as np\n",
        "from sklearn.metrics.pairwise import cosine_similarity\n",
        "from sklearn.feature_extraction.text import CountVectorizer"
      ],
      "metadata": {
        "id": "R_gykOb15VhT"
      },
      "execution_count": null,
      "outputs": []
    },
    {
      "cell_type": "markdown",
      "source": [
        "Define the corpus .In this example we will use some of the top news from 2022"
      ],
      "metadata": {
        "id": "V2GDiv6N8qE3"
      }
    },
    {
      "cell_type": "code",
      "source": [
        "# A corpus containing a collection of sentences\n",
        "corpus = [\n",
        "    \"Inflation surges around the world.\",\n",
        "    \"Stocks rise after the market crash.\",\n",
        "    \"AI predicted protein structures\",\n",
        "    \"The company CEO is leaving the company.\",\n",
        "    \"World population exceeds 8 bilion\",\n",
        "]"
      ],
      "metadata": {
        "id": "PQy8O3918n3s"
      },
      "execution_count": null,
      "outputs": []
    },
    {
      "cell_type": "code",
      "source": [
        "# creating a Bag-of-words Matrix\n",
        "#initialize  Vectorizer\n",
        "vectorizer = CountVectorizer()"
      ],
      "metadata": {
        "id": "-Y0N1i2o9bd1"
      },
      "execution_count": null,
      "outputs": []
    },
    {
      "cell_type": "code",
      "source": [
        "#fit the vectorizer to corpus\n",
        "bow = vectorizer.fit_transform(corpus)"
      ],
      "metadata": {
        "id": "OesbA4Lt9o6L"
      },
      "execution_count": null,
      "outputs": []
    },
    {
      "cell_type": "markdown",
      "source": [
        "We can see the vocabulary dictionary mapping using the .vocabulary_ method. We could also use the .get_feature_names_out() to see just the words."
      ],
      "metadata": {
        "id": "nUXEsNkw95FL"
      }
    },
    {
      "cell_type": "code",
      "source": [
        "#view Vocabulary\n",
        "print(vectorizer.vocabulary_)"
      ],
      "metadata": {
        "colab": {
          "base_uri": "https://localhost:8080/"
        },
        "collapsed": true,
        "id": "8PfCns3-9ozf",
        "outputId": "82ccc687-b4bb-47a0-b0aa-cb30688ad0bf"
      },
      "execution_count": null,
      "outputs": [
        {
          "output_type": "stream",
          "name": "stdout",
          "text": [
            "{'inflation': 8, 'surges': 18, 'around': 2, 'the': 19, 'world': 20, 'stocks': 16, 'rise': 15, 'after': 0, 'market': 11, 'crash': 6, 'ai': 1, 'predicted': 13, 'protein': 14, 'structures': 17, 'company': 5, 'ceo': 4, 'is': 9, 'leaving': 10, 'population': 12, 'exceeds': 7, 'bilion': 3}\n"
          ]
        }
      ]
    },
    {
      "cell_type": "code",
      "source": [
        "bow"
      ],
      "metadata": {
        "collapsed": true,
        "colab": {
          "base_uri": "https://localhost:8080/"
        },
        "id": "H44bApOR-L-x",
        "outputId": "a68b5ea2-83de-4bba-de9d-2fdf65fe502a"
      },
      "execution_count": null,
      "outputs": [
        {
          "output_type": "execute_result",
          "data": {
            "text/plain": [
              "<5x21 sparse matrix of type '<class 'numpy.int64'>'\n",
              "\twith 24 stored elements in Compressed Sparse Row format>"
            ]
          },
          "metadata": {},
          "execution_count": 25
        }
      ]
    },
    {
      "cell_type": "code",
      "source": [
        "print(bow)"
      ],
      "metadata": {
        "collapsed": true,
        "colab": {
          "base_uri": "https://localhost:8080/"
        },
        "id": "UJ2rqmT8-SfT",
        "outputId": "fad87b80-69ff-4637-8727-523810d7a885"
      },
      "execution_count": null,
      "outputs": [
        {
          "output_type": "stream",
          "name": "stdout",
          "text": [
            "  (0, 8)\t1\n",
            "  (0, 18)\t1\n",
            "  (0, 2)\t1\n",
            "  (0, 19)\t1\n",
            "  (0, 20)\t1\n",
            "  (1, 19)\t1\n",
            "  (1, 16)\t1\n",
            "  (1, 15)\t1\n",
            "  (1, 0)\t1\n",
            "  (1, 11)\t1\n",
            "  (1, 6)\t1\n",
            "  (2, 1)\t1\n",
            "  (2, 13)\t1\n",
            "  (2, 14)\t1\n",
            "  (2, 17)\t1\n",
            "  (3, 19)\t2\n",
            "  (3, 5)\t2\n",
            "  (3, 4)\t1\n",
            "  (3, 9)\t1\n",
            "  (3, 10)\t1\n",
            "  (4, 20)\t1\n",
            "  (4, 12)\t1\n",
            "  (4, 7)\t1\n",
            "  (4, 3)\t1\n"
          ]
        }
      ]
    },
    {
      "cell_type": "code",
      "source": [
        "#convert the sparse matrix into a dense matrix\n",
        "bow.toarray()"
      ],
      "metadata": {
        "colab": {
          "base_uri": "https://localhost:8080/"
        },
        "collapsed": true,
        "id": "qRlpyHwZ-W8Z",
        "outputId": "27184b4d-316a-40ea-f978-5b686e0fc1fe"
      },
      "execution_count": null,
      "outputs": [
        {
          "output_type": "execute_result",
          "data": {
            "text/plain": [
              "array([[0, 0, 1, 0, 0, 0, 0, 0, 1, 0, 0, 0, 0, 0, 0, 0, 0, 0, 1, 1, 1],\n",
              "       [1, 0, 0, 0, 0, 0, 1, 0, 0, 0, 0, 1, 0, 0, 0, 1, 1, 0, 0, 1, 0],\n",
              "       [0, 1, 0, 0, 0, 0, 0, 0, 0, 0, 0, 0, 0, 1, 1, 0, 0, 1, 0, 0, 0],\n",
              "       [0, 0, 0, 0, 1, 2, 0, 0, 0, 1, 1, 0, 0, 0, 0, 0, 0, 0, 0, 2, 0],\n",
              "       [0, 0, 0, 1, 0, 0, 0, 1, 0, 0, 0, 0, 1, 0, 0, 0, 0, 0, 0, 0, 1]])"
            ]
          },
          "metadata": {},
          "execution_count": 27
        }
      ]
    },
    {
      "cell_type": "markdown",
      "source": [
        "Custom tokenizer using spacy"
      ],
      "metadata": {
        "id": "0nHYSGNj_TQ9"
      }
    },
    {
      "cell_type": "code",
      "source": [
        "#load English language model\n",
        "nlp = spacy.load('en_core_web_sm')\n",
        "\n",
        "#define custom tokenizer\n",
        "def custom_tokenizer(doc):\n",
        "    return [token.lemma_ for token in nlp(doc) if (not token.is_stop and not token.is_punct)]"
      ],
      "metadata": {
        "id": "h-dLjwFc_XA3"
      },
      "execution_count": null,
      "outputs": []
    },
    {
      "cell_type": "code",
      "source": [
        "# pass the tokenizer as a callback fxn to countvectorize\n",
        "vectorizer = CountVectorizer(tokenizer=custom_tokenizer,binary=True)\n",
        "\n",
        "# fit vecotrizer to corpus\n",
        "bow = vectorizer.fit_transform(corpus)"
      ],
      "metadata": {
        "id": "MRqUlJCP_9gW",
        "colab": {
          "base_uri": "https://localhost:8080/"
        },
        "outputId": "f7630891-c17f-4794-ec08-ed6981f40984"
      },
      "execution_count": null,
      "outputs": [
        {
          "output_type": "stream",
          "name": "stderr",
          "text": [
            "/usr/local/lib/python3.10/dist-packages/sklearn/feature_extraction/text.py:525: UserWarning: The parameter 'token_pattern' will not be used since 'tokenizer' is not None'\n",
            "  warnings.warn(\n"
          ]
        }
      ]
    },
    {
      "cell_type": "code",
      "source": [
        "vectorizer.vocabulary_"
      ],
      "metadata": {
        "colab": {
          "base_uri": "https://localhost:8080/"
        },
        "collapsed": true,
        "id": "4Ivk09SKAdl6",
        "outputId": "152dcce9-e69e-4ae0-850b-47a86077f562"
      },
      "execution_count": null,
      "outputs": [
        {
          "output_type": "execute_result",
          "data": {
            "text/plain": [
              "{'inflation': 7,\n",
              " 'surge': 16,\n",
              " 'world': 17,\n",
              " 'stock': 14,\n",
              " 'rise': 13,\n",
              " 'market': 9,\n",
              " 'crash': 5,\n",
              " 'ai': 1,\n",
              " 'predict': 11,\n",
              " 'protein': 12,\n",
              " 'structure': 15,\n",
              " 'company': 4,\n",
              " 'ceo': 3,\n",
              " 'leave': 8,\n",
              " 'population': 10,\n",
              " 'exceed': 6,\n",
              " '8': 0,\n",
              " 'bilion': 2}"
            ]
          },
          "metadata": {},
          "execution_count": 30
        }
      ]
    },
    {
      "cell_type": "markdown",
      "source": [
        "Document similiraty\n",
        "\n",
        "Here we will measure the cosine similiraty  between the documnets in our corpus"
      ],
      "metadata": {
        "id": "2PBkd0HRdNSS"
      }
    },
    {
      "cell_type": "code",
      "source": [
        "#cosine similiraty using numpy\n",
        "def cosine_sim(a,b):\n",
        "    return np.dot(a,b)/(np.linalg.norm(a)*np.linalg.norm(b))"
      ],
      "metadata": {
        "id": "xSSwKApydZGb"
      },
      "execution_count": null,
      "outputs": []
    },
    {
      "cell_type": "code",
      "source": [
        "#similarity between two documents\n",
        "print (corpus[1])\n",
        "print (corpus[3])\n",
        "print (f'Similarity: {cosine_sim(bow[1].toarray().squeeze(),bow[3].toarray().squeeze()):.3f}')\n"
      ],
      "metadata": {
        "colab": {
          "base_uri": "https://localhost:8080/"
        },
        "collapsed": true,
        "id": "5JVmU4dldiWa",
        "outputId": "ed5c6a14-d40a-4356-960a-c4456176be7f"
      },
      "execution_count": null,
      "outputs": [
        {
          "output_type": "stream",
          "name": "stdout",
          "text": [
            "Stocks rise after the market crash.\n",
            "The company CEO is leaving the company.\n",
            "Similarity: 0.000\n"
          ]
        }
      ]
    },
    {
      "cell_type": "code",
      "source": [
        "# similarity between two documents\n",
        "print (corpus[0])\n",
        "print (corpus[4])\n",
        "print (f'Similarity: {cosine_sim(bow[0].toarray().squeeze(),bow[4].toarray().squeeze()):.3f}')\n",
        "#"
      ],
      "metadata": {
        "colab": {
          "base_uri": "https://localhost:8080/"
        },
        "collapsed": true,
        "id": "E304kRECe9Wz",
        "outputId": "d2a2452c-9d0c-455a-f86a-55c3dd0eae82"
      },
      "execution_count": null,
      "outputs": [
        {
          "output_type": "stream",
          "name": "stdout",
          "text": [
            "Inflation surges around the world.\n",
            "World population exceeds 8 bilion\n",
            "Similarity: 0.258\n"
          ]
        }
      ]
    },
    {
      "cell_type": "code",
      "source": [
        "# cosine similarity\n",
        "print(cosine_similarity(bow))"
      ],
      "metadata": {
        "colab": {
          "base_uri": "https://localhost:8080/"
        },
        "collapsed": true,
        "id": "SkVOIhS2fW4A",
        "outputId": "e0bc28ba-dfe1-4a6a-d028-37eadb125639"
      },
      "execution_count": null,
      "outputs": [
        {
          "output_type": "stream",
          "name": "stdout",
          "text": [
            "[[1.         0.         0.         0.         0.25819889]\n",
            " [0.         1.         0.         0.         0.        ]\n",
            " [0.         0.         1.         0.         0.        ]\n",
            " [0.         0.         0.         1.         0.        ]\n",
            " [0.25819889 0.         0.         0.         1.        ]]\n"
          ]
        }
      ]
    },
    {
      "cell_type": "markdown",
      "source": [
        "n-grams"
      ],
      "metadata": {
        "id": "ryEpufArfmrC"
      }
    },
    {
      "cell_type": "code",
      "source": [
        "# unigrams and bigrams with ngram_range=(1,2)\n",
        "vectorizer = CountVectorizer(tokenizer=custom_tokenizer,lowercase=False ,binary= True, ngram_range=(1,2))\n",
        "\n",
        "#fit vectorizer to corpus\n",
        "unibigram_bow = vectorizer.fit_transform(corpus)\n",
        "\n",
        "#print vocabulary size\n",
        "print(f'Vocabulary size: {len(vectorizer.get_feature_names_out())}')\n",
        "\n",
        "#print vocabularty\n",
        "print(vectorizer.vocabulary_)\n"
      ],
      "metadata": {
        "colab": {
          "base_uri": "https://localhost:8080/"
        },
        "id": "JM2wcgPyfrMo",
        "outputId": "80ab766b-63db-4693-959c-3bbc81e18ca0"
      },
      "execution_count": null,
      "outputs": [
        {
          "output_type": "stream",
          "name": "stdout",
          "text": [
            "Vocabulary size: 33\n",
            "{'inflation': 12, 'surge': 29, 'world': 31, 'inflation surge': 13, 'surge world': 30, 'stock': 26, 'rise': 24, 'market': 16, 'crash': 9, 'stock rise': 27, 'rise market': 25, 'market crash': 17, 'AI': 2, 'predict': 20, 'protein': 22, 'structure': 28, 'AI predict': 3, 'predict protein': 21, 'protein structure': 23, 'company': 7, 'ceo': 5, 'leave': 14, 'company ceo': 8, 'ceo leave': 6, 'leave company': 15, 'population': 18, 'exceed': 10, '8': 0, 'bilion': 4, 'world population': 32, 'population exceed': 19, 'exceed 8': 11, '8 bilion': 1}\n"
          ]
        }
      ]
    },
    {
      "cell_type": "code",
      "source": [
        "# only bigrams with ngram_range=(2,2)\n",
        "vectorizer = CountVectorizer(tokenizer=custom_tokenizer,lowercase=False ,binary= True, ngram_range=(2,2))\n",
        "\n",
        "#fit vectorizer to corpus\n",
        "unibigram_bow = vectorizer.fit_transform(corpus)\n",
        "\n",
        "#print vocabulary size\n",
        "print(f'Vocabulary size: {len(vectorizer.get_feature_names_out())}')\n",
        "\n",
        "#print vocabularty\n",
        "print(vectorizer.vocabulary_)\n"
      ],
      "metadata": {
        "colab": {
          "base_uri": "https://localhost:8080/"
        },
        "outputId": "5d885535-6600-493c-cb33-941a4391628d",
        "id": "nYdnwFOAj-1Q"
      },
      "execution_count": null,
      "outputs": [
        {
          "output_type": "stream",
          "name": "stdout",
          "text": [
            "Vocabulary size: 15\n",
            "{'inflation surge': 5, 'surge world': 13, 'stock rise': 12, 'rise market': 11, 'market crash': 7, 'AI predict': 1, 'predict protein': 9, 'protein structure': 10, 'company ceo': 3, 'ceo leave': 2, 'leave company': 6, 'world population': 14, 'population exceed': 8, 'exceed 8': 4, '8 bilion': 0}\n"
          ]
        }
      ]
    },
    {
      "cell_type": "markdown",
      "source": [
        "**4)TF-IDF_Doc_ Search**\n",
        "\n",
        "TF-IDF stands for Term Frequency - Inverse Document Frequency and is made up of two components. The first is the term frequency.\n",
        "\n",
        "Whilst some people define the term frequency to be the relative frequency, it is more common to use the raw frequency of the token/term\n",
        " in document\n",
        ".\n",
        "\n",
        "However, some documents may be much longer than others and so will naturally have higher frequencies across the board. For this reason, it is standard practice to apply the log-transform to reduce this bias.\n",
        "\n",
        "The second part of TF-IDF is the inverse document frequency. This is the part that will emphasise the more important words\n",
        "\n"
      ],
      "metadata": {
        "id": "_Njvutpej0s4"
      }
    },
    {
      "cell_type": "code",
      "source": [
        "from sklearn.datasets import fetch_20newsgroups\n",
        "from sklearn.feature_extraction.text import TfidfVectorizer\n",
        "from sklearn.metrics.pairwise import cosine_similarity\n"
      ],
      "metadata": {
        "id": "BAICJFnTnery"
      },
      "execution_count": null,
      "outputs": []
    },
    {
      "cell_type": "code",
      "source": [
        "#load corpus\n",
        "corpus = fetch_20newsgroups(categories=['sci.med','sci.space'],remove=('headers','footers','quotes'))\n",
        "\n",
        "#preview data\n",
        "print(len(corpus.data))\n",
        "print(corpus.data[1])\n"
      ],
      "metadata": {
        "colab": {
          "base_uri": "https://localhost:8080/"
        },
        "collapsed": true,
        "id": "UyEO2Ffrn6kf",
        "outputId": "4764f7c4-6ff2-496d-db09-c252dcb1d67f"
      },
      "execution_count": null,
      "outputs": [
        {
          "output_type": "stream",
          "name": "stdout",
          "text": [
            "1187\n",
            "\n",
            "It isn't that rare, actually.  Many cases that are called Parkinson's\n",
            "Disease turn out on autopsy to be SND.  It should be suspected in any\n",
            "case of Parkinsonism without tremor and which does not respond to\n",
            "L-dopa therapy.  I don't believe pallidotomy will do much for SND.\n",
            "\n",
            "-- \n",
            "----------------------------------------------------------------------------\n",
            "Gordon Banks  N3JXP      | \"Skepticism is the chastity of the intellect, and\n",
            "geb@cadre.dsl.pitt.edu   |  it is shameful to surrender it too soon.\" \n"
          ]
        }
      ]
    },
    {
      "cell_type": "markdown",
      "source": [
        "We need to pre-process the text first using a tokenizer. We'll do this using spacy, like we have seen in previous notebooks. We apply lemmatization, remove punctuation, spaces and non-alphabetic characters."
      ],
      "metadata": {
        "id": "a-8lkM62odLd"
      }
    },
    {
      "cell_type": "code",
      "source": [
        "#load English language model\n",
        "nlp = spacy.load('en_core_web_sm')\n",
        "\n",
        "#Disable NER and parsing to save time\n",
        "unwanted_pipes = ['ner','parser']\n",
        "\n",
        "#define custom tokenizer using spacy\n",
        "def custom_tokenizer(doc):\n",
        "    with nlp.disable_pipes(*unwanted_pipes):\n",
        "      return [token.lemma_ for token in nlp(doc) if (not token.is_stop and not token.is_punct and token.is_alpha)]\n",
        "\n",
        "\n"
      ],
      "metadata": {
        "id": "ny6JJjivocnb"
      },
      "execution_count": null,
      "outputs": []
    },
    {
      "cell_type": "code",
      "source": [
        "#Initialise the tf-idf tokenizer\n",
        "vectorizer = TfidfVectorizer(tokenizer=custom_tokenizer)\n",
        "\n",
        "#fit the vectorizer to corpus\n",
        "tfidf = vectorizer.fit_transform(corpus.data)"
      ],
      "metadata": {
        "colab": {
          "base_uri": "https://localhost:8080/"
        },
        "id": "rvzeos4XpjWn",
        "outputId": "1641ca64-1e42-4389-e7dd-386ecc7ceafa"
      },
      "execution_count": null,
      "outputs": [
        {
          "output_type": "stream",
          "name": "stderr",
          "text": [
            "/usr/local/lib/python3.10/dist-packages/sklearn/feature_extraction/text.py:525: UserWarning: The parameter 'token_pattern' will not be used since 'tokenizer' is not None'\n",
            "  warnings.warn(\n"
          ]
        }
      ]
    },
    {
      "cell_type": "code",
      "source": [
        "#size of the vocabulary\n",
        "print(f'Vocabulary size: {len(vectorizer.get_feature_names_out())}')\n",
        "\n",
        "#dimensions of the output matrix\n",
        "print(tfidf.shape)"
      ],
      "metadata": {
        "colab": {
          "base_uri": "https://localhost:8080/"
        },
        "id": "wYqeDVcApsd7",
        "outputId": "f68badf8-d567-4c4a-91c2-662619c849e5"
      },
      "execution_count": null,
      "outputs": [
        {
          "output_type": "stream",
          "name": "stdout",
          "text": [
            "Vocabulary size: 14630\n",
            "(1187, 14630)\n"
          ]
        }
      ]
    },
    {
      "cell_type": "code",
      "source": [
        "# What does the matrix look like\n",
        "print(tfidf)"
      ],
      "metadata": {
        "colab": {
          "base_uri": "https://localhost:8080/"
        },
        "collapsed": true,
        "id": "P6MYgouXp7VI",
        "outputId": "15a40927-afa1-4d99-9915-ae76b7c5842a"
      },
      "execution_count": null,
      "outputs": [
        {
          "output_type": "stream",
          "name": "stdout",
          "text": [
            "  (0, 13509)\t0.30598329335708757\n",
            "  (0, 4343)\t0.2572943161622357\n",
            "  (0, 10112)\t0.26458384354433223\n",
            "  (0, 1440)\t0.31653537803985365\n",
            "  (0, 4992)\t0.28375760918293524\n",
            "  (0, 5339)\t0.26079875800350144\n",
            "  (0, 1452)\t0.33013938125816905\n",
            "  (0, 1937)\t0.31653537803985365\n",
            "  (0, 10217)\t0.33013938125816905\n",
            "  (0, 11092)\t0.16024493437513398\n",
            "  (0, 4960)\t0.31653537803985365\n",
            "  (0, 9706)\t0.2781878467626476\n",
            "  (1, 12044)\t0.11737053544180714\n",
            "  (1, 12693)\t0.1283681337827866\n",
            "  (1, 11676)\t0.1283681337827866\n",
            "  (1, 6521)\t0.12745256211476977\n",
            "  (1, 2105)\t0.12790725470710052\n",
            "  (1, 11875)\t0.12745256211476977\n",
            "  (1, 1145)\t0.1216550707635695\n",
            "  (1, 5369)\t0.12203783290975305\n",
            "  (1, 9384)\t0.25022381132159416\n",
            "  (1, 1275)\t0.11839194215603595\n",
            "  (1, 13070)\t0.15526253082799144\n",
            "  (1, 3714)\t0.25022381132159416\n",
            "  (1, 7145)\t0.18952959066651995\n",
            "  :\t:\n",
            "  (1186, 8937)\t0.24910656068457118\n",
            "  (1186, 3425)\t0.24910656068457118\n",
            "  (1186, 13946)\t0.23543312509808897\n",
            "  (1186, 159)\t0.23543312509808897\n",
            "  (1186, 11939)\t0.22573166815791304\n",
            "  (1186, 5772)\t0.23543312509808897\n",
            "  (1186, 6507)\t0.21820663353860914\n",
            "  (1186, 7489)\t0.1886833400447727\n",
            "  (1186, 9900)\t0.21205823257143083\n",
            "  (1186, 6599)\t0.22573166815791304\n",
            "  (1186, 14325)\t0.23543312509808897\n",
            "  (1186, 5747)\t0.1811583054254688\n",
            "  (1186, 13046)\t0.11618522200887861\n",
            "  (1186, 8716)\t0.15356255606363575\n",
            "  (1186, 6550)\t0.13330275437331168\n",
            "  (1186, 9458)\t0.14808195595863474\n",
            "  (1186, 7529)\t0.1046518498809544\n",
            "  (1186, 2445)\t0.10731237780049807\n",
            "  (1186, 12062)\t0.13440852037215253\n",
            "  (1186, 4727)\t0.09869781741456202\n",
            "  (1186, 4297)\t0.11820919983979436\n",
            "  (1186, 6435)\t0.1886833400447727\n",
            "  (1186, 10597)\t0.11396789872298119\n",
            "  (1186, 5361)\t0.09330504996629335\n",
            "  (1186, 7421)\t0.08234011221004593\n"
          ]
        }
      ]
    },
    {
      "cell_type": "markdown",
      "source": [
        "**Document Search**\n",
        "\n",
        "Now we have the tf-idf matrix, we can measure similarity exactly the same as before - by using cosine similarity. Given a document, we can find the other documents which are most similar to the original one.\n",
        "\n",
        "We will now go a step further and use it to build a basic document search recommender system. Given a query (i.e. a search term), we transform the query, measure the similarity with all the other documents and finally return the most similar documents."
      ],
      "metadata": {
        "id": "M2ZsOA4pqGZ5"
      }
    },
    {
      "cell_type": "code",
      "source": [
        "#transorm the query\n",
        "query = [\"mars\"]\n",
        "query_tfidf = vectorizer.transform(query)"
      ],
      "metadata": {
        "id": "nmTYRYleqQkM"
      },
      "execution_count": null,
      "outputs": []
    },
    {
      "cell_type": "code",
      "source": [
        "#calculate the pairwise similiarity with all documents in corpus\n",
        "cosine_similarity =cosine_similarity(query_tfidf).flatten()"
      ],
      "metadata": {
        "id": "G5Sb8DcgqtX4"
      },
      "execution_count": null,
      "outputs": []
    },
    {
      "cell_type": "code",
      "source": [
        "# return indices of top k matching documennts\n",
        "def top_k(arr, k):\n",
        "  kth_largest = (k+1) * -1\n",
        "  return np.argsort(arr)[:kth_largest:-1]\n",
        "\n",
        "  #return top 5  document indices\n",
        "  top_related_indices = top_k_indices(cosine_similarity, 5)\n",
        "  print(top_related_indices)"
      ],
      "metadata": {
        "id": "Wl9LD4ROsxsT"
      },
      "execution_count": null,
      "outputs": []
    },
    {
      "cell_type": "code",
      "source": [
        "#correspondning cosine similarity\n",
        "print(cosine_similarity[top_related_indices])"
      ],
      "metadata": {
        "id": "8ACx-Ql8vh91"
      },
      "execution_count": null,
      "outputs": []
    },
    {
      "cell_type": "code",
      "source": [
        "#top match\n",
        "print([corpus.data[i] for i in top_related_indices])\n"
      ],
      "metadata": {
        "id": "EUiMn0Okvn-I"
      },
      "execution_count": null,
      "outputs": []
    },
    {
      "cell_type": "markdown",
      "source": [
        "**5)Naive-Bayes Tecxt classsification**\n",
        "\n",
        "We are going to approach this by using Naive Bayes, which is a fast and simple text classification technique that is still widely used today.\n",
        "\n",
        "Suppose we want to classify a piece of text as being either positive or negative sentiment. If the word \"amazing\" appears, what is the probability that that document is positive? Let's use Bayes' theorem.\n",
        "\n"
      ],
      "metadata": {
        "id": "9G8qb6dSvvaG"
      }
    },
    {
      "cell_type": "code",
      "source": [
        "#fetch data\n",
        "train_corpus = fetch_20newsgroups(subset='train', remove=('headers','footers','quotes'))\n",
        "test_corpus= fetch_20newsgroups(subset='test', remove=('headers','footers','quotes'))\n",
        "\n",
        "#print dataset size\n",
        "print(f'Train size: {len(train_corpus.data)}')\n",
        "print(f'Test size: {len(test_corpus.data)}')\n"
      ],
      "metadata": {
        "colab": {
          "base_uri": "https://localhost:8080/"
        },
        "id": "-B-ofk-U1oVu",
        "outputId": "ba9d49b6-a94e-4888-bf54-0eaebeeb6151"
      },
      "execution_count": null,
      "outputs": [
        {
          "output_type": "stream",
          "name": "stdout",
          "text": [
            "Train size: 11314\n",
            "Test size: 7532\n"
          ]
        }
      ]
    },
    {
      "cell_type": "markdown",
      "source": [
        "let's preview the data to get a better idea of what we are dealing with"
      ],
      "metadata": {
        "id": "2sQsQyXm3R_G"
      }
    },
    {
      "cell_type": "code",
      "source": [
        "#labels\n",
        "print('Labels:',train_corpus.target_names)\n",
        "\n",
        "#label encoding\n",
        "print('\\nlabel encoding:',train_corpus.target)\n",
        "\n",
        "#example article\n",
        "print('\\nArticle:',train_corpus.data[0])"
      ],
      "metadata": {
        "colab": {
          "base_uri": "https://localhost:8080/"
        },
        "collapsed": true,
        "id": "XL8TQyzo3Z6E",
        "outputId": "c7a56f5e-003f-43f0-d617-14f7456962a4"
      },
      "execution_count": null,
      "outputs": [
        {
          "output_type": "stream",
          "name": "stdout",
          "text": [
            "Labels: ['alt.atheism', 'comp.graphics', 'comp.os.ms-windows.misc', 'comp.sys.ibm.pc.hardware', 'comp.sys.mac.hardware', 'comp.windows.x', 'misc.forsale', 'rec.autos', 'rec.motorcycles', 'rec.sport.baseball', 'rec.sport.hockey', 'sci.crypt', 'sci.electronics', 'sci.med', 'sci.space', 'soc.religion.christian', 'talk.politics.guns', 'talk.politics.mideast', 'talk.politics.misc', 'talk.religion.misc']\n",
            "\n",
            "label encoding: [7 4 4 ... 3 1 8]\n",
            "\n",
            "Article: I was wondering if anyone out there could enlighten me on this car I saw\n",
            "the other day. It was a 2-door sports car, looked to be from the late 60s/\n",
            "early 70s. It was called a Bricklin. The doors were really small. In addition,\n",
            "the front bumper was separate from the rest of the body. This is \n",
            "all I know. If anyone can tellme a model name, engine specs, years\n",
            "of production, where this car is made, history, or whatever info you\n",
            "have on this funky looking car, please e-mail.\n"
          ]
        }
      ]
    },
    {
      "cell_type": "markdown",
      "source": [
        "We'll start with a baseline tokenizer that simply removes punctuation, spaces and numbers but we'll improve on this later and compare the results. To speed up this process, we'll use a blank pipeline as this doesn't try to parse, lemmatize etc the text."
      ],
      "metadata": {
        "id": "EIyT3IZ37lvj"
      }
    },
    {
      "cell_type": "code",
      "source": [
        "#load english language model\n",
        "nlp = spacy.blank('en')\n",
        "\n",
        "#define custom tokenizer using spacy\n",
        "def custom_tokenizer(doc):\n",
        "    return [token.lemma_ for token in nlp(doc) if (not token.is_stop and not token.is_punct and token.is_alpha)]"
      ],
      "metadata": {
        "id": "5OdVBH1E7lRO"
      },
      "execution_count": null,
      "outputs": []
    },
    {
      "cell_type": "markdown",
      "source": [
        "To model the data, we need to convert our text to numbers. The most natural way is to use a Bag-of-Words representation, which corresponds to the derivations we've done above. But later, we'll also compare this to the TF-IDF representation, which is known to work well with Naive Bayes."
      ],
      "metadata": {
        "id": "qr7RX9Yy8Fc3"
      }
    },
    {
      "cell_type": "code",
      "source": [
        "from re import X\n",
        "#define vectorizer\n",
        "vectorizer = CountVectorizer(tokenizer=custom_tokenizer)\n",
        "\n",
        "#fit and transform train data\n",
        "X = vectorizer.fit_transform(train_corpus.data)\n",
        "y = train_corpus.target\n",
        "\n",
        "#transform test data\n",
        "X_test = vectorizer.transform(test_corpus.data)\n",
        "y_test = test_corpus.target"
      ],
      "metadata": {
        "colab": {
          "base_uri": "https://localhost:8080/"
        },
        "id": "fG1tBl3e8Eyu",
        "outputId": "b7d61750-6952-4de9-e2e7-24d351111cd0"
      },
      "execution_count": null,
      "outputs": [
        {
          "output_type": "stream",
          "name": "stderr",
          "text": [
            "/usr/local/lib/python3.10/dist-packages/sklearn/feature_extraction/text.py:525: UserWarning: The parameter 'token_pattern' will not be used since 'tokenizer' is not None'\n",
            "  warnings.warn(\n"
          ]
        }
      ]
    },
    {
      "cell_type": "markdown",
      "source": [
        "We're now ready to train a Naive Bayes model. In sklearn, it is called MultinomialNB because the data has a multinomial distribution (since we assume words appear independently). Notice how fast the model gets trained compared to the vectorization."
      ],
      "metadata": {
        "id": "M9nGjcyc9Fme"
      }
    },
    {
      "cell_type": "code",
      "source": [
        "# Import the MultinomialNB class\n",
        "from sklearn.naive_bayes import MultinomialNB\n",
        "\n",
        "# Define model\n",
        "clf = MultinomialNB()\n",
        "\n",
        "# Train model\n",
        "clf.fit(X, y)"
      ],
      "metadata": {
        "colab": {
          "base_uri": "https://localhost:8080/",
          "height": 75
        },
        "id": "BmVZMfHb9-df",
        "outputId": "c2bb28ca-70b9-4af6-b09f-b65f3a539905"
      },
      "execution_count": null,
      "outputs": [
        {
          "output_type": "execute_result",
          "data": {
            "text/plain": [
              "MultinomialNB()"
            ],
            "text/html": [
              "<style>#sk-container-id-2 {color: black;}#sk-container-id-2 pre{padding: 0;}#sk-container-id-2 div.sk-toggleable {background-color: white;}#sk-container-id-2 label.sk-toggleable__label {cursor: pointer;display: block;width: 100%;margin-bottom: 0;padding: 0.3em;box-sizing: border-box;text-align: center;}#sk-container-id-2 label.sk-toggleable__label-arrow:before {content: \"▸\";float: left;margin-right: 0.25em;color: #696969;}#sk-container-id-2 label.sk-toggleable__label-arrow:hover:before {color: black;}#sk-container-id-2 div.sk-estimator:hover label.sk-toggleable__label-arrow:before {color: black;}#sk-container-id-2 div.sk-toggleable__content {max-height: 0;max-width: 0;overflow: hidden;text-align: left;background-color: #f0f8ff;}#sk-container-id-2 div.sk-toggleable__content pre {margin: 0.2em;color: black;border-radius: 0.25em;background-color: #f0f8ff;}#sk-container-id-2 input.sk-toggleable__control:checked~div.sk-toggleable__content {max-height: 200px;max-width: 100%;overflow: auto;}#sk-container-id-2 input.sk-toggleable__control:checked~label.sk-toggleable__label-arrow:before {content: \"▾\";}#sk-container-id-2 div.sk-estimator input.sk-toggleable__control:checked~label.sk-toggleable__label {background-color: #d4ebff;}#sk-container-id-2 div.sk-label input.sk-toggleable__control:checked~label.sk-toggleable__label {background-color: #d4ebff;}#sk-container-id-2 input.sk-hidden--visually {border: 0;clip: rect(1px 1px 1px 1px);clip: rect(1px, 1px, 1px, 1px);height: 1px;margin: -1px;overflow: hidden;padding: 0;position: absolute;width: 1px;}#sk-container-id-2 div.sk-estimator {font-family: monospace;background-color: #f0f8ff;border: 1px dotted black;border-radius: 0.25em;box-sizing: border-box;margin-bottom: 0.5em;}#sk-container-id-2 div.sk-estimator:hover {background-color: #d4ebff;}#sk-container-id-2 div.sk-parallel-item::after {content: \"\";width: 100%;border-bottom: 1px solid gray;flex-grow: 1;}#sk-container-id-2 div.sk-label:hover label.sk-toggleable__label {background-color: #d4ebff;}#sk-container-id-2 div.sk-serial::before {content: \"\";position: absolute;border-left: 1px solid gray;box-sizing: border-box;top: 0;bottom: 0;left: 50%;z-index: 0;}#sk-container-id-2 div.sk-serial {display: flex;flex-direction: column;align-items: center;background-color: white;padding-right: 0.2em;padding-left: 0.2em;position: relative;}#sk-container-id-2 div.sk-item {position: relative;z-index: 1;}#sk-container-id-2 div.sk-parallel {display: flex;align-items: stretch;justify-content: center;background-color: white;position: relative;}#sk-container-id-2 div.sk-item::before, #sk-container-id-2 div.sk-parallel-item::before {content: \"\";position: absolute;border-left: 1px solid gray;box-sizing: border-box;top: 0;bottom: 0;left: 50%;z-index: -1;}#sk-container-id-2 div.sk-parallel-item {display: flex;flex-direction: column;z-index: 1;position: relative;background-color: white;}#sk-container-id-2 div.sk-parallel-item:first-child::after {align-self: flex-end;width: 50%;}#sk-container-id-2 div.sk-parallel-item:last-child::after {align-self: flex-start;width: 50%;}#sk-container-id-2 div.sk-parallel-item:only-child::after {width: 0;}#sk-container-id-2 div.sk-dashed-wrapped {border: 1px dashed gray;margin: 0 0.4em 0.5em 0.4em;box-sizing: border-box;padding-bottom: 0.4em;background-color: white;}#sk-container-id-2 div.sk-label label {font-family: monospace;font-weight: bold;display: inline-block;line-height: 1.2em;}#sk-container-id-2 div.sk-label-container {text-align: center;}#sk-container-id-2 div.sk-container {/* jupyter's `normalize.less` sets `[hidden] { display: none; }` but bootstrap.min.css set `[hidden] { display: none !important; }` so we also need the `!important` here to be able to override the default hidden behavior on the sphinx rendered scikit-learn.org. See: https://github.com/scikit-learn/scikit-learn/issues/21755 */display: inline-block !important;position: relative;}#sk-container-id-2 div.sk-text-repr-fallback {display: none;}</style><div id=\"sk-container-id-2\" class=\"sk-top-container\"><div class=\"sk-text-repr-fallback\"><pre>MultinomialNB()</pre><b>In a Jupyter environment, please rerun this cell to show the HTML representation or trust the notebook. <br />On GitHub, the HTML representation is unable to render, please try loading this page with nbviewer.org.</b></div><div class=\"sk-container\" hidden><div class=\"sk-item\"><div class=\"sk-estimator sk-toggleable\"><input class=\"sk-toggleable__control sk-hidden--visually\" id=\"sk-estimator-id-2\" type=\"checkbox\" checked><label for=\"sk-estimator-id-2\" class=\"sk-toggleable__label sk-toggleable__label-arrow\">MultinomialNB</label><div class=\"sk-toggleable__content\"><pre>MultinomialNB()</pre></div></div></div></div></div>"
            ]
          },
          "metadata": {},
          "execution_count": 68
        }
      ]
    },
    {
      "cell_type": "markdown",
      "source": [
        "Then we evaluate the model on the test set. We'll use this score as a baseline to compare it to improved models."
      ],
      "metadata": {
        "id": "R-iKRi51-G1n"
      }
    },
    {
      "cell_type": "code",
      "source": [
        "from sklearn.metrics import f1_score\n",
        "# predict on test set\n",
        "test_preds =clf.predict(X_test)\n",
        "\n",
        "#measure f1-score\n",
        "print('Test set f1-score:',f1_score(y_test,test_preds,average='macro'))"
      ],
      "metadata": {
        "colab": {
          "base_uri": "https://localhost:8080/"
        },
        "id": "h-KGbOrt-Dqn",
        "outputId": "28fa4f17-4af3-4b49-a4c9-f6b8077799fd"
      },
      "execution_count": null,
      "outputs": [
        {
          "output_type": "stream",
          "name": "stdout",
          "text": [
            "Test set f1-score: 0.005030891438658429\n"
          ]
        }
      ]
    },
    {
      "cell_type": "markdown",
      "source": [
        "Let's take a look at the confusion matrix to see where the model made misclassifications."
      ],
      "metadata": {
        "id": "mn2zCxmx_Osa"
      }
    },
    {
      "cell_type": "code",
      "source": [
        "import matplotlib.pyplot as plt\n",
        "from sklearn.metrics import ConfusionMatrixDisplay\n",
        "# Figure size\n",
        "fig, ax = plt.subplots(figsize=(20,20))\n",
        "ax.grid(False)\n",
        "#create the confusion matrix\n",
        "# Corrected 'dispaly_labels' to 'display_labels'\n",
        "disp = ConfusionMatrixDisplay.from_estimator(clf ,X_test,y_test,normalize='true',display_labels=train_corpus.target_names,xticks_rotation='vertical',ax=ax)"
      ],
      "metadata": {
        "colab": {
          "base_uri": "https://localhost:8080/",
          "height": 1000
        },
        "collapsed": true,
        "id": "xbKqYHXBAnSP",
        "outputId": "64cfc3b9-a8dd-47d9-ce02-c91a509118de"
      },
      "execution_count": null,
      "outputs": [
        {
          "output_type": "display_data",
          "data": {
            "text/plain": [
              "<Figure size 2000x2000 with 2 Axes>"
            ],
            "image/png": "[encoded data removed]"
          },
          "metadata": {}
        }
      ]
    },
    {
      "cell_type": "code",
      "source": [
        "from sklearn.metrics import classification_report\n",
        "# Correct the typo 'traget_names' to 'target_names'\n",
        "print(classification_report(y_test,test_preds,target_names=train_corpus.target_names))"
      ],
      "metadata": {
        "collapsed": true,
        "colab": {
          "base_uri": "https://localhost:8080/"
        },
        "id": "MBIDHAJbDZQr",
        "outputId": "2c1b0bab-dce7-49c4-8512-08415eecc1ff"
      },
      "execution_count": null,
      "outputs": [
        {
          "output_type": "stream",
          "name": "stdout",
          "text": [
            "                          precision    recall  f1-score   support\n",
            "\n",
            "             alt.atheism       0.00      0.00      0.00       319\n",
            "           comp.graphics       0.00      0.00      0.00       389\n",
            " comp.os.ms-windows.misc       0.00      0.00      0.00       394\n",
            "comp.sys.ibm.pc.hardware       0.00      0.00      0.00       392\n",
            "   comp.sys.mac.hardware       0.00      0.00      0.00       385\n",
            "          comp.windows.x       0.00      0.00      0.00       395\n",
            "            misc.forsale       0.00      0.00      0.00       390\n",
            "               rec.autos       0.00      0.00      0.00       396\n",
            "         rec.motorcycles       0.00      0.00      0.00       398\n",
            "      rec.sport.baseball       0.00      0.00      0.00       397\n",
            "        rec.sport.hockey       0.05      1.00      0.10       399\n",
            "               sci.crypt       0.00      0.00      0.00       396\n",
            "         sci.electronics       0.00      0.00      0.00       393\n",
            "                 sci.med       0.00      0.00      0.00       396\n",
            "               sci.space       0.00      0.00      0.00       394\n",
            "  soc.religion.christian       0.00      0.00      0.00       398\n",
            "      talk.politics.guns       0.00      0.00      0.00       364\n",
            "   talk.politics.mideast       0.00      0.00      0.00       376\n",
            "      talk.politics.misc       0.00      0.00      0.00       310\n",
            "      talk.religion.misc       0.00      0.00      0.00       251\n",
            "\n",
            "                accuracy                           0.05      7532\n",
            "               macro avg       0.00      0.05      0.01      7532\n",
            "            weighted avg       0.00      0.05      0.01      7532\n",
            "\n"
          ]
        },
        {
          "output_type": "stream",
          "name": "stderr",
          "text": [
            "/usr/local/lib/python3.10/dist-packages/sklearn/metrics/_classification.py:1471: UndefinedMetricWarning: Precision and F-score are ill-defined and being set to 0.0 in labels with no predicted samples. Use `zero_division` parameter to control this behavior.\n",
            "  _warn_prf(average, modifier, msg_start, len(result))\n",
            "/usr/local/lib/python3.10/dist-packages/sklearn/metrics/_classification.py:1471: UndefinedMetricWarning: Precision and F-score are ill-defined and being set to 0.0 in labels with no predicted samples. Use `zero_division` parameter to control this behavior.\n",
            "  _warn_prf(average, modifier, msg_start, len(result))\n",
            "/usr/local/lib/python3.10/dist-packages/sklearn/metrics/_classification.py:1471: UndefinedMetricWarning: Precision and F-score are ill-defined and being set to 0.0 in labels with no predicted samples. Use `zero_division` parameter to control this behavior.\n",
            "  _warn_prf(average, modifier, msg_start, len(result))\n"
          ]
        }
      ]
    },
    {
      "cell_type": "markdown",
      "source": [
        "**Improvement baseline**\n",
        "\n",
        "Let's try to improve upon the above baseline using the things we've learnt so far. For starters, we'll use add lemmatization and stop-word removal to our tokenizer. This will reduce the number of synonyms and low information words."
      ],
      "metadata": {
        "id": "bEJxZQLcD6yR"
      }
    },
    {
      "cell_type": "code",
      "source": [
        "#disable ner and parser to save time\n",
        "unwanted_pipes = ['ner','parser']\n",
        "\n",
        "#custom tokenizer using spacy\n",
        "def custom_tokenizer(doc):\n",
        "    with nlp.disable_pipes(*unwanted_pipes):\n",
        "      return [token.lemma_ for token in nlp(doc) if not token.is_stop and not token.is_punct and token.is_space and t.is_alpha]"
      ],
      "metadata": {
        "id": "-i_MS62fEGn1"
      },
      "execution_count": null,
      "outputs": []
    },
    {
      "cell_type": "markdown",
      "source": [
        "We'll use the TF-IDF representation as our vectorizer this time. This takes quite a bit longer than before because of the more complex tokenizer and vectorizer."
      ],
      "metadata": {
        "id": "gAuK1nEtEhku"
      }
    },
    {
      "cell_type": "code",
      "source": [
        "#define vecotrizer\n",
        "vectorizer = TfidfVectorizer(tokenizer=custom_tokenizer)\n",
        "\n",
        "#fit and transform train data\n",
        "X = vectorizer.fit_transform(train_corpus.data)\n",
        "y = train_corpus.target\n",
        "\n",
        "#transform test data\n",
        "X_test = vectorizer.transform(test_corpus.data)\n",
        "y_test = test_corpus.target"
      ],
      "metadata": {
        "id": "pnizUPxxHeae",
        "colab": {
          "base_uri": "https://localhost:8080/"
        },
        "outputId": "8da8394a-4ccd-4ef4-831a-fb4a32da779c"
      },
      "execution_count": null,
      "outputs": [
        {
          "output_type": "stream",
          "name": "stderr",
          "text": [
            "/usr/local/lib/python3.10/dist-packages/sklearn/feature_extraction/text.py:525: UserWarning: The parameter 'token_pattern' will not be used since 'tokenizer' is not None'\n",
            "  warnings.warn(\n"
          ]
        }
      ]
    },
    {
      "cell_type": "markdown",
      "source": [
        "Remember how additive smoothing is being applied in a Naive Bayes model for numerical stability. This is set using the parameter alpha and is default value\n",
        "\n",
        " 1. We're now going to tune this hyperparameter using grid search. Even grid search and cross validation, the model is trained very quickly."
      ],
      "metadata": {
        "id": "8CbanS1oJT6p"
      }
    },
    {
      "cell_type": "code",
      "source": [
        "from sklearn.model_selection import GridSearchCV\n",
        "#parameters to tune\n",
        "grid = {'alpha':[0.01,0.005,0.01,0.05,0.1,1.0]}\n",
        "\n",
        "#define model\n",
        "clf = MultinomialNB()\n",
        "\n",
        "#define grid search\n",
        "model =GridSearchCV(clf,param_grid=grid,scoring='f1_macro',cv=5,verbose=5)\n",
        "\n",
        "#fit model\n",
        "model.fit(X,y)\n",
        "#print the best value of alpha\n",
        "print('Best parameters:',model.best_params_)"
      ],
      "metadata": {
        "colab": {
          "base_uri": "https://localhost:8080/"
        },
        "collapsed": true,
        "id": "7kK8HJvsJZZx",
        "outputId": "28a61b41-8e7c-4949-af04-7c36aed6aa45"
      },
      "execution_count": null,
      "outputs": [
        {
          "output_type": "stream",
          "name": "stdout",
          "text": [
            "Fitting 5 folds for each of 6 candidates, totalling 30 fits\n",
            "[CV 1/5] END ........................alpha=0.01;, score=0.005 total time=   0.1s\n",
            "[CV 2/5] END ........................alpha=0.01;, score=0.005 total time=   0.0s\n",
            "[CV 3/5] END ........................alpha=0.01;, score=0.005 total time=   0.0s\n",
            "[CV 4/5] END ........................alpha=0.01;, score=0.005 total time=   0.1s\n",
            "[CV 5/5] END ........................alpha=0.01;, score=0.005 total time=   0.1s\n",
            "[CV 1/5] END .......................alpha=0.005;, score=0.005 total time=   0.0s\n",
            "[CV 2/5] END .......................alpha=0.005;, score=0.005 total time=   0.0s\n",
            "[CV 3/5] END .......................alpha=0.005;, score=0.005 total time=   0.0s\n",
            "[CV 4/5] END .......................alpha=0.005;, score=0.005 total time=   0.0s\n",
            "[CV 5/5] END .......................alpha=0.005;, score=0.005 total time=   0.0s\n",
            "[CV 1/5] END ........................alpha=0.01;, score=0.005 total time=   0.0s\n",
            "[CV 2/5] END ........................alpha=0.01;, score=0.005 total time=   0.0s\n",
            "[CV 3/5] END ........................alpha=0.01;, score=0.005 total time=   0.0s\n",
            "[CV 4/5] END ........................alpha=0.01;, score=0.005 total time=   0.0s\n",
            "[CV 5/5] END ........................alpha=0.01;, score=0.005 total time=   0.0s\n",
            "[CV 1/5] END ........................alpha=0.05;, score=0.005 total time=   0.0s\n",
            "[CV 2/5] END ........................alpha=0.05;, score=0.005 total time=   0.0s\n",
            "[CV 3/5] END ........................alpha=0.05;, score=0.005 total time=   0.0s\n",
            "[CV 4/5] END ........................alpha=0.05;, score=0.005 total time=   0.0s\n",
            "[CV 5/5] END ........................alpha=0.05;, score=0.005 total time=   0.0s\n",
            "[CV 1/5] END .........................alpha=0.1;, score=0.005 total time=   0.0s\n",
            "[CV 2/5] END .........................alpha=0.1;, score=0.005 total time=   0.0s\n",
            "[CV 3/5] END .........................alpha=0.1;, score=0.005 total time=   0.0s\n",
            "[CV 4/5] END .........................alpha=0.1;, score=0.005 total time=   0.0s\n",
            "[CV 5/5] END .........................alpha=0.1;, score=0.005 total time=   0.0s\n",
            "[CV 1/5] END .........................alpha=1.0;, score=0.005 total time=   0.0s\n",
            "[CV 2/5] END .........................alpha=1.0;, score=0.005 total time=   0.0s\n",
            "[CV 3/5] END .........................alpha=1.0;, score=0.005 total time=   0.0s\n",
            "[CV 4/5] END .........................alpha=1.0;, score=0.005 total time=   0.0s\n",
            "[CV 5/5] END .........................alpha=1.0;, score=0.005 total time=   0.0s\n",
            "Best parameters: {'alpha': 0.01}\n"
          ]
        }
      ]
    },
    {
      "cell_type": "markdown",
      "source": [
        "Evaluate the modal"
      ],
      "metadata": {
        "id": "kKJnoDFGMLXY"
      }
    },
    {
      "cell_type": "code",
      "source": [
        "# predict on test set\n",
        "test_preds =model.predict(X_test)\n",
        "\n",
        "#measure f1-score\n",
        "print('Test set f1-score:',f1_score(y_test,test_preds,average='macro'))"
      ],
      "metadata": {
        "colab": {
          "base_uri": "https://localhost:8080/"
        },
        "id": "G67D6AOaMOOd",
        "outputId": "59609e2d-3c5a-4b3a-bf21-159ba17d94ce"
      },
      "execution_count": null,
      "outputs": [
        {
          "output_type": "stream",
          "name": "stdout",
          "text": [
            "Test set f1-score: 0.005030891438658429\n"
          ]
        }
      ]
    },
    {
      "cell_type": "markdown",
      "source": [
        "plot the classiifcation report"
      ],
      "metadata": {
        "id": "WCfuACSIMVff"
      }
    },
    {
      "cell_type": "code",
      "source": [
        "print(classification_report(y_test,test_preds,target_names=train_corpus.target_names))"
      ],
      "metadata": {
        "colab": {
          "base_uri": "https://localhost:8080/"
        },
        "collapsed": true,
        "id": "qF-Z9NHwMchb",
        "outputId": "159bdb79-d776-43d3-93f3-dcb2ecff5dc0"
      },
      "execution_count": null,
      "outputs": [
        {
          "output_type": "stream",
          "name": "stdout",
          "text": [
            "                          precision    recall  f1-score   support\n",
            "\n",
            "             alt.atheism       0.00      0.00      0.00       319\n",
            "           comp.graphics       0.00      0.00      0.00       389\n",
            " comp.os.ms-windows.misc       0.00      0.00      0.00       394\n",
            "comp.sys.ibm.pc.hardware       0.00      0.00      0.00       392\n",
            "   comp.sys.mac.hardware       0.00      0.00      0.00       385\n",
            "          comp.windows.x       0.00      0.00      0.00       395\n",
            "            misc.forsale       0.00      0.00      0.00       390\n",
            "               rec.autos       0.00      0.00      0.00       396\n",
            "         rec.motorcycles       0.00      0.00      0.00       398\n",
            "      rec.sport.baseball       0.00      0.00      0.00       397\n",
            "        rec.sport.hockey       0.05      1.00      0.10       399\n",
            "               sci.crypt       0.00      0.00      0.00       396\n",
            "         sci.electronics       0.00      0.00      0.00       393\n",
            "                 sci.med       0.00      0.00      0.00       396\n",
            "               sci.space       0.00      0.00      0.00       394\n",
            "  soc.religion.christian       0.00      0.00      0.00       398\n",
            "      talk.politics.guns       0.00      0.00      0.00       364\n",
            "   talk.politics.mideast       0.00      0.00      0.00       376\n",
            "      talk.politics.misc       0.00      0.00      0.00       310\n",
            "      talk.religion.misc       0.00      0.00      0.00       251\n",
            "\n",
            "                accuracy                           0.05      7532\n",
            "               macro avg       0.00      0.05      0.01      7532\n",
            "            weighted avg       0.00      0.05      0.01      7532\n",
            "\n"
          ]
        },
        {
          "output_type": "stream",
          "name": "stderr",
          "text": [
            "/usr/local/lib/python3.10/dist-packages/sklearn/metrics/_classification.py:1471: UndefinedMetricWarning: Precision and F-score are ill-defined and being set to 0.0 in labels with no predicted samples. Use `zero_division` parameter to control this behavior.\n",
            "  _warn_prf(average, modifier, msg_start, len(result))\n",
            "/usr/local/lib/python3.10/dist-packages/sklearn/metrics/_classification.py:1471: UndefinedMetricWarning: Precision and F-score are ill-defined and being set to 0.0 in labels with no predicted samples. Use `zero_division` parameter to control this behavior.\n",
            "  _warn_prf(average, modifier, msg_start, len(result))\n",
            "/usr/local/lib/python3.10/dist-packages/sklearn/metrics/_classification.py:1471: UndefinedMetricWarning: Precision and F-score are ill-defined and being set to 0.0 in labels with no predicted samples. Use `zero_division` parameter to control this behavior.\n",
            "  _warn_prf(average, modifier, msg_start, len(result))\n"
          ]
        }
      ]
    },
    {
      "cell_type": "markdown",
      "source": [
        "Adding lemmatization and stop-word removal to the tokenizer improved F1-score from 57.5% to 63.2%.\n",
        "Using TF-IDF instead of Bag-of-Word improved F1-score from 63.2% to 63.8%.\n",
        "Tuning the additive smoothing hyperparameter improved F1-score from 63.8% to 67.6%."
      ],
      "metadata": {
        "id": "cXtH052jM5Dy"
      }
    },
    {
      "cell_type": "markdown",
      "source": [
        "The last thing we'll do is take a new article of text and classify it using our pipeline, which consists of tokenization, vectorization and naive bayes modelling.\n",
        "\n",
        "We'll also return the confidence in our prediction, i.e. the estimated probability that the model believes the text belongs to that class."
      ],
      "metadata": {
        "id": "4l0xEP2jM6jL"
      }
    },
    {
      "cell_type": "code",
      "source": [
        "# Space related article\n",
        "article = [\"Messi to Brcelona,here we go!\"]\n",
        "\n",
        "# Fit the vectorizer to your training data (replace 'your_training_data' with the actual data)\n",
        "vectorizer.fit(article)\n",
        "\n",
        "# Vectorize text\n",
        "X_article = vectorizer.transform(article)\n",
        "\n",
        "# Predict probability of each class\n",
        "proba_article = model.predict_proba(X_article)\n",
        "\n",
        "# Calculate predicted class and confidence\n",
        "id_max = np.argmax(proba_article)\n",
        "pred_article = train_corpus.target_names[id_max]\n",
        "conf = np.max(proba_article)\n",
        "\n",
        "# Print predictions\n",
        "print('Prediction:', pred_article)\n",
        "print('Confidence:', conf)"
      ],
      "metadata": {
        "colab": {
          "base_uri": "https://localhost:8080/"
        },
        "collapsed": true,
        "id": "cOJXF3EtPhC2",
        "outputId": "5652c0cd-6c60-413d-8a5d-8dfde6ad4edd"
      },
      "execution_count": null,
      "outputs": [
        {
          "output_type": "stream",
          "name": "stdout",
          "text": [
            "Prediction: rec.sport.hockey\n",
            "Confidence: 0.0530316422131872\n"
          ]
        }
      ]
    }
  ]
}